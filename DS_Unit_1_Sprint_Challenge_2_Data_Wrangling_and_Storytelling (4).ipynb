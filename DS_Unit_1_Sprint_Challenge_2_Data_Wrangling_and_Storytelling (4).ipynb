{
 "cells": [
  {
   "cell_type": "markdown",
   "metadata": {
    "colab_type": "text",
    "id": "4yMHi_PX9hEz"
   },
   "source": [
    "# Data Science Unit 1 Sprint Challenge 2\n",
    "\n",
    "## Data Wrangling and Storytelling\n",
    "\n",
    "Taming data from its raw form into informative insights and stories."
   ]
  },
  {
   "cell_type": "markdown",
   "metadata": {
    "colab_type": "text",
    "id": "9wIvtOss9H_i"
   },
   "source": [
    "## Data Wrangling\n",
    "\n",
    "In this Sprint Challenge you will first \"wrangle\" some data from [Gapminder](https://www.gapminder.org/about-gapminder/), a Swedish non-profit co-founded by Hans Rosling. \"Gapminder produces free teaching resources making the world understandable based on reliable statistics.\"\n",
    "- [Cell phones (total), by country and year](https://raw.githubusercontent.com/open-numbers/ddf--gapminder--systema_globalis/master/ddf--datapoints--cell_phones_total--by--geo--time.csv)\n",
    "- [Population (total), by country and year](https://raw.githubusercontent.com/open-numbers/ddf--gapminder--systema_globalis/master/ddf--datapoints--population_total--by--geo--time.csv)\n",
    "- [Geo country codes](https://github.com/open-numbers/ddf--gapminder--systema_globalis/blob/master/ddf--entities--geo--country.csv)\n",
    "\n",
    "These two links have everything you need to successfully complete the first part of this sprint challenge.\n",
    "- [Pandas documentation: Working with Text Data](https://pandas.pydata.org/pandas-docs/stable/text.html) (one question)\n",
    "- [Pandas Cheat Sheet](https://github.com/pandas-dev/pandas/blob/master/doc/cheatsheet/Pandas_Cheat_Sheet.pdf) (everything else)"
   ]
  },
  {
   "cell_type": "markdown",
   "metadata": {
    "colab_type": "text",
    "id": "wWEU2GemX68A"
   },
   "source": [
    "### Part 0. Load data\n",
    "\n",
    "You don't need to add or change anything here. Just run this cell and it loads the data for you, into three dataframes."
   ]
  },
  {
   "cell_type": "code",
   "execution_count": 132,
   "metadata": {
    "colab": {},
    "colab_type": "code",
    "id": "bxKtSi5sRQOl"
   },
   "outputs": [
    {
     "name": "stdout",
     "output_type": "stream",
     "text": [
      "   geo  time  cell_phones_total\n",
      "0  abw  1960                0.0\n",
      "1  abw  1965                0.0\n",
      "2  abw  1970                0.0\n",
      "3  abw  1975                0.0\n",
      "4  abw  1976                0.0 \n",
      "\n",
      "   geo  time  population_total\n",
      "0  afg  1800           3280000\n",
      "1  afg  1801           3280000\n",
      "2  afg  1802           3280000\n",
      "3  afg  1803           3280000\n",
      "4  afg  1804           3280000 \n",
      "\n",
      "    geo alt_5                    alternative_1 alternative_2 alternative_3  \\\n",
      "0  abkh   NaN                              NaN           NaN           NaN   \n",
      "1   abw   NaN                              NaN           NaN           NaN   \n",
      "2   afg   NaN  Islamic Republic of Afghanistan           NaN           NaN   \n",
      "3   ago   NaN                              NaN           NaN           NaN   \n",
      "4   aia   NaN                              NaN           NaN           NaN   \n",
      "\n",
      "  alternative_4_cdiac arb1 arb2 arb3 arb4  ... latitude longitude  \\\n",
      "0                 NaN  NaN  NaN  NaN  NaN  ...      nan       nan   \n",
      "1               Aruba  NaN  NaN  NaN  NaN  ...     12.5 -69.96667   \n",
      "2         Afghanistan  NaN  NaN  NaN  NaN  ...     33.0      66.0   \n",
      "3              Angola  NaN  NaN  NaN  NaN  ...    -12.5      18.5   \n",
      "4                 NaN  NaN  NaN  NaN  NaN  ... 18.21667    -63.05   \n",
      "\n",
      "  main_religion_2008      country        pandg un_state unicode_region_subtag  \\\n",
      "0                NaN     Abkhazia          NaN    False                   NaN   \n",
      "1          christian        Aruba          NaN    False                    AW   \n",
      "2             muslim  Afghanistan  AFGHANISTAN     True                    AF   \n",
      "3          christian       Angola       ANGOLA     True                    AO   \n",
      "4          christian     Anguilla          NaN    False                    AI   \n",
      "\n",
      "   upper_case_name world_4region        world_6region  \n",
      "0              NaN        europe  europe_central_asia  \n",
      "1            ARUBA      americas              america  \n",
      "2      AFGHANISTAN          asia           south_asia  \n",
      "3           ANGOLA        africa   sub_saharan_africa  \n",
      "4         ANGUILLA      americas              america  \n",
      "\n",
      "[5 rows x 33 columns]\n"
     ]
    }
   ],
   "source": [
    "import pandas as pd\n",
    "\n",
    "cell_phones = pd.read_csv('https://raw.githubusercontent.com/open-numbers/ddf--gapminder--systema_globalis/master/ddf--datapoints--cell_phones_total--by--geo--time.csv')\n",
    "\n",
    "population = pd.read_csv('https://raw.githubusercontent.com/open-numbers/ddf--gapminder--systema_globalis/master/ddf--datapoints--population_total--by--geo--time.csv')\n",
    "\n",
    "geo_country_codes = (pd.read_csv('https://raw.githubusercontent.com/open-numbers/ddf--gapminder--systema_globalis/master/ddf--entities--geo--country.csv')\n",
    "                       .rename(columns={'country': 'geo', 'name': 'country'}))\n",
    "print(cell_phones.head(), '\\n')\n",
    "print(population.head(), '\\n')\n",
    "print(geo_country_codes.head())"
   ]
  },
  {
   "cell_type": "markdown",
   "metadata": {
    "colab_type": "text",
    "id": "AZmVTeCsX9RC"
   },
   "source": [
    "### Part 1. Join data"
   ]
  },
  {
   "cell_type": "markdown",
   "metadata": {
    "colab_type": "text",
    "id": "GLzX58u4SfEy"
   },
   "source": [
    "First, join the `cell_phones` and `population` dataframes (with an inner join on `geo` and `time`).\n",
    "\n",
    "The resulting dataframe's shape should be: (8590, 4)"
   ]
  },
  {
   "cell_type": "code",
   "execution_count": 133,
   "metadata": {
    "colab": {},
    "colab_type": "code",
    "id": "GVV7Hnj4SXBa"
   },
   "outputs": [
    {
     "name": "stdout",
     "output_type": "stream",
     "text": [
      "   geo  time  cell_phones_total  population_total\n",
      "0  afg  1960                0.0           8996351\n",
      "1  afg  1965                0.0           9938414\n",
      "2  afg  1970                0.0          11126123\n",
      "3  afg  1975                0.0          12590286\n",
      "4  afg  1976                0.0          12840299\n",
      "(8590, 4)\n"
     ]
    }
   ],
   "source": [
    "merged = pd.merge(cell_phones, population, how='inner', on=['geo', 'time'])\n",
    "print(merged.head())\n",
    "print(merged.shape)"
   ]
  },
  {
   "cell_type": "code",
   "execution_count": 134,
   "metadata": {},
   "outputs": [
    {
     "name": "stdout",
     "output_type": "stream",
     "text": [
      "['alt_5', 'alternative_1', 'alternative_2', 'alternative_3', 'alternative_4_cdiac', 'arb1', 'arb2', 'arb3', 'arb4', 'arb5', 'arb6', 'g77_and_oecd_countries', 'gapminder_list', 'god_id', 'gwid', 'income_groups', 'is--country', 'iso3166_1_alpha2', 'iso3166_1_alpha3', 'iso3166_1_numeric', 'iso3166_2', 'landlocked', 'latitude', 'longitude', 'main_religion_2008', 'pandg', 'un_state', 'unicode_region_subtag', 'upper_case_name', 'world_4region', 'world_6region']\n"
     ]
    },
    {
     "data": {
      "text/html": [
       "<div>\n",
       "<style scoped>\n",
       "    .dataframe tbody tr th:only-of-type {\n",
       "        vertical-align: middle;\n",
       "    }\n",
       "\n",
       "    .dataframe tbody tr th {\n",
       "        vertical-align: top;\n",
       "    }\n",
       "\n",
       "    .dataframe thead th {\n",
       "        text-align: right;\n",
       "    }\n",
       "</style>\n",
       "<table border=\"1\" class=\"dataframe\">\n",
       "  <thead>\n",
       "    <tr style=\"text-align: right;\">\n",
       "      <th></th>\n",
       "      <th>geo</th>\n",
       "      <th>country</th>\n",
       "    </tr>\n",
       "  </thead>\n",
       "  <tbody>\n",
       "    <tr>\n",
       "      <th>0</th>\n",
       "      <td>abkh</td>\n",
       "      <td>Abkhazia</td>\n",
       "    </tr>\n",
       "    <tr>\n",
       "      <th>1</th>\n",
       "      <td>abw</td>\n",
       "      <td>Aruba</td>\n",
       "    </tr>\n",
       "    <tr>\n",
       "      <th>2</th>\n",
       "      <td>afg</td>\n",
       "      <td>Afghanistan</td>\n",
       "    </tr>\n",
       "    <tr>\n",
       "      <th>3</th>\n",
       "      <td>ago</td>\n",
       "      <td>Angola</td>\n",
       "    </tr>\n",
       "    <tr>\n",
       "      <th>4</th>\n",
       "      <td>aia</td>\n",
       "      <td>Anguilla</td>\n",
       "    </tr>\n",
       "  </tbody>\n",
       "</table>\n",
       "</div>"
      ],
      "text/plain": [
       "    geo      country\n",
       "0  abkh     Abkhazia\n",
       "1   abw        Aruba\n",
       "2   afg  Afghanistan\n",
       "3   ago       Angola\n",
       "4   aia     Anguilla"
      ]
     },
     "execution_count": 134,
     "metadata": {},
     "output_type": "execute_result"
    }
   ],
   "source": [
    "g = geo_country_codes\n",
    "\n",
    "#memeory inefficient way to drop specific columns for merge\n",
    "\n",
    "drop_these = list(g.columns.values)\n",
    "keep_these = ['geo', 'country']\n",
    "\n",
    "column=[i for i in drop_these if i not in  keep_these] \n",
    "\n",
    "print(column)\n",
    "\n",
    "countries = g.drop(columns=column)\n",
    "countries.head()"
   ]
  },
  {
   "cell_type": "markdown",
   "metadata": {
    "colab_type": "text",
    "id": "xsXpDbwwW241"
   },
   "source": [
    "Then, select the `geo` and `country` columns from the `geo_country_codes` dataframe, and join with your population and cell phone data.\n",
    "\n",
    "The resulting dataframe's shape should be: (8590, 5)"
   ]
  },
  {
   "cell_type": "code",
   "execution_count": 135,
   "metadata": {
    "colab": {},
    "colab_type": "code",
    "id": "Q2LaZta_W2CE"
   },
   "outputs": [
    {
     "name": "stdout",
     "output_type": "stream",
     "text": [
      "   geo  time  cell_phones_total  population_total      country\n",
      "0  afg  1960                0.0           8996351  Afghanistan\n",
      "1  afg  1965                0.0           9938414  Afghanistan\n",
      "2  afg  1970                0.0          11126123  Afghanistan\n",
      "3  afg  1975                0.0          12590286  Afghanistan\n",
      "4  afg  1976                0.0          12840299  Afghanistan\n",
      "(8590, 5)\n"
     ]
    }
   ],
   "source": [
    "merged = pd.merge(merged, countries, how='inner', on=['geo'])\n",
    "print(merged.head())\n",
    "print(merged.shape)\n",
    "\n"
   ]
  },
  {
   "cell_type": "code",
   "execution_count": 136,
   "metadata": {},
   "outputs": [
    {
     "name": "stdout",
     "output_type": "stream",
     "text": [
      "   geo  time  cell_phones_total  population_total      country\n",
      "0  afg  1960                0.0           8996351  Afghanistan\n",
      "1  afg  1965                0.0           9938414  Afghanistan\n",
      "2  afg  1970                0.0          11126123  Afghanistan\n",
      "3  afg  1975                0.0          12590286  Afghanistan\n",
      "4  afg  1976                0.0          12840299  Afghanistan\n"
     ]
    }
   ],
   "source": [
    "df = merged\n",
    "print(df.head())\n"
   ]
  },
  {
   "cell_type": "code",
   "execution_count": 137,
   "metadata": {},
   "outputs": [],
   "source": [
    "df = df.rename(columns={\n",
    "    'time': 'year',\n",
    "    'population_total': 'population'\n",
    "})"
   ]
  },
  {
   "cell_type": "code",
   "execution_count": 138,
   "metadata": {},
   "outputs": [
    {
     "name": "stdout",
     "output_type": "stream",
     "text": [
      "   geo  year  cell_phones_total  population      country\n",
      "0  afg  1960                0.0     8996351  Afghanistan\n",
      "1  afg  1965                0.0     9938414  Afghanistan\n",
      "2  afg  1970                0.0    11126123  Afghanistan\n",
      "3  afg  1975                0.0    12590286  Afghanistan\n",
      "4  afg  1976                0.0    12840299  Afghanistan\n"
     ]
    }
   ],
   "source": [
    "print(df.head())"
   ]
  },
  {
   "cell_type": "markdown",
   "metadata": {
    "colab_type": "text",
    "id": "oK96Uj7vYjFX"
   },
   "source": [
    "### Part 2. Make features"
   ]
  },
  {
   "cell_type": "markdown",
   "metadata": {
    "colab_type": "text",
    "id": "AD2fBNrOYzCG"
   },
   "source": [
    "Calculate the number of cell phones per person, and add this column onto your dataframe.\n",
    "\n",
    "(You've calculated correctly if you get 1.220 cell phones per person in the United States in 2017.)"
   ]
  },
  {
   "cell_type": "code",
   "execution_count": 139,
   "metadata": {
    "colab": {},
    "colab_type": "code",
    "id": "wXI9nQthYnFK"
   },
   "outputs": [],
   "source": [
    "df['cell_phones_per_person'] = df['cell_phones_total'].div(df['population'])"
   ]
  },
  {
   "cell_type": "code",
   "execution_count": 140,
   "metadata": {},
   "outputs": [
    {
     "data": {
      "text/html": [
       "<div>\n",
       "<style scoped>\n",
       "    .dataframe tbody tr th:only-of-type {\n",
       "        vertical-align: middle;\n",
       "    }\n",
       "\n",
       "    .dataframe tbody tr th {\n",
       "        vertical-align: top;\n",
       "    }\n",
       "\n",
       "    .dataframe thead th {\n",
       "        text-align: right;\n",
       "    }\n",
       "</style>\n",
       "<table border=\"1\" class=\"dataframe\">\n",
       "  <thead>\n",
       "    <tr style=\"text-align: right;\">\n",
       "      <th></th>\n",
       "      <th>geo</th>\n",
       "      <th>year</th>\n",
       "      <th>cell_phones_total</th>\n",
       "      <th>population</th>\n",
       "      <th>country</th>\n",
       "      <th>cell_phones_per_person</th>\n",
       "    </tr>\n",
       "  </thead>\n",
       "  <tbody>\n",
       "    <tr>\n",
       "      <th>8134</th>\n",
       "      <td>usa</td>\n",
       "      <td>2017</td>\n",
       "      <td>395,881,000.0</td>\n",
       "      <td>324459463</td>\n",
       "      <td>United States</td>\n",
       "      <td>1.2201246847283354</td>\n",
       "    </tr>\n",
       "  </tbody>\n",
       "</table>\n",
       "</div>"
      ],
      "text/plain": [
       "      geo  year  cell_phones_total  population        country  \\\n",
       "8134  usa  2017      395,881,000.0   324459463  United States   \n",
       "\n",
       "      cell_phones_per_person  \n",
       "8134      1.2201246847283354  "
      ]
     },
     "execution_count": 140,
     "metadata": {},
     "output_type": "execute_result"
    }
   ],
   "source": [
    "usa = df[df.country == 'United States']\n",
    "usa[usa.year.isin([2017])]"
   ]
  },
  {
   "cell_type": "markdown",
   "metadata": {
    "colab_type": "text",
    "id": "S3QFdsnRZMH6"
   },
   "source": [
    "Modify the `geo` column to make the geo codes uppercase instead of lowercase."
   ]
  },
  {
   "cell_type": "code",
   "execution_count": 141,
   "metadata": {
    "colab": {},
    "colab_type": "code",
    "id": "93ADij8_YkOq"
   },
   "outputs": [
    {
     "data": {
      "text/plain": [
       "0       Afg\n",
       "1       Afg\n",
       "2       Afg\n",
       "3       Afg\n",
       "4       Afg\n",
       "       ... \n",
       "8585    Zwe\n",
       "8586    Zwe\n",
       "8587    Zwe\n",
       "8588    Zwe\n",
       "8589    Zwe\n",
       "Name: geo, Length: 8590, dtype: object"
      ]
     },
     "execution_count": 141,
     "metadata": {},
     "output_type": "execute_result"
    }
   ],
   "source": [
    "df['geo'].str.title()"
   ]
  },
  {
   "cell_type": "code",
   "execution_count": 142,
   "metadata": {},
   "outputs": [],
   "source": [
    "df2 = df"
   ]
  },
  {
   "cell_type": "markdown",
   "metadata": {
    "colab_type": "text",
    "id": "hlPDAFCfaF6C"
   },
   "source": [
    "### Part 3. Process data"
   ]
  },
  {
   "cell_type": "markdown",
   "metadata": {
    "colab_type": "text",
    "id": "k-pudNWve2SQ"
   },
   "source": [
    "Use the describe function, to describe your dataframe's numeric columns, and then its non-numeric columns.\n",
    "\n",
    "(You'll see the time period ranges from 1960 to 2017, and there are 195 unique countries represented.)"
   ]
  },
  {
   "cell_type": "code",
   "execution_count": 143,
   "metadata": {
    "colab": {},
    "colab_type": "code",
    "id": "g26yemKre2Cu"
   },
   "outputs": [
    {
     "data": {
      "text/html": [
       "<div>\n",
       "<style scoped>\n",
       "    .dataframe tbody tr th:only-of-type {\n",
       "        vertical-align: middle;\n",
       "    }\n",
       "\n",
       "    .dataframe tbody tr th {\n",
       "        vertical-align: top;\n",
       "    }\n",
       "\n",
       "    .dataframe thead th {\n",
       "        text-align: right;\n",
       "    }\n",
       "</style>\n",
       "<table border=\"1\" class=\"dataframe\">\n",
       "  <thead>\n",
       "    <tr style=\"text-align: right;\">\n",
       "      <th></th>\n",
       "      <th>year</th>\n",
       "      <th>cell_phones_total</th>\n",
       "      <th>population</th>\n",
       "      <th>cell_phones_per_person</th>\n",
       "    </tr>\n",
       "  </thead>\n",
       "  <tbody>\n",
       "    <tr>\n",
       "      <th>count</th>\n",
       "      <td>8,590.0</td>\n",
       "      <td>8,590.0</td>\n",
       "      <td>8,590.0</td>\n",
       "      <td>8,590.0</td>\n",
       "    </tr>\n",
       "    <tr>\n",
       "      <th>mean</th>\n",
       "      <td>1,994.1934807916182</td>\n",
       "      <td>9,004,949.642905472</td>\n",
       "      <td>29,838,230.581722934</td>\n",
       "      <td>0.27963855580591535</td>\n",
       "    </tr>\n",
       "    <tr>\n",
       "      <th>std</th>\n",
       "      <td>14.257974607310278</td>\n",
       "      <td>55,734,084.872176506</td>\n",
       "      <td>116,128,377.47477297</td>\n",
       "      <td>0.45424665621404714</td>\n",
       "    </tr>\n",
       "    <tr>\n",
       "      <th>min</th>\n",
       "      <td>1,960.0</td>\n",
       "      <td>0.0</td>\n",
       "      <td>4,433.0</td>\n",
       "      <td>0.0</td>\n",
       "    </tr>\n",
       "    <tr>\n",
       "      <th>25%</th>\n",
       "      <td>1,983.0</td>\n",
       "      <td>0.0</td>\n",
       "      <td>1,456,148.0</td>\n",
       "      <td>0.0</td>\n",
       "    </tr>\n",
       "    <tr>\n",
       "      <th>50%</th>\n",
       "      <td>1,995.0</td>\n",
       "      <td>6,200.0</td>\n",
       "      <td>5,725,062.5</td>\n",
       "      <td>0.0015636266438163813</td>\n",
       "    </tr>\n",
       "    <tr>\n",
       "      <th>75%</th>\n",
       "      <td>2,006.0</td>\n",
       "      <td>1,697,652.0</td>\n",
       "      <td>18,105,812.0</td>\n",
       "      <td>0.4611491855201403</td>\n",
       "    </tr>\n",
       "    <tr>\n",
       "      <th>max</th>\n",
       "      <td>2,017.0</td>\n",
       "      <td>1,474,097,000.0</td>\n",
       "      <td>1,409,517,397.0</td>\n",
       "      <td>2.490242818521353</td>\n",
       "    </tr>\n",
       "  </tbody>\n",
       "</table>\n",
       "</div>"
      ],
      "text/plain": [
       "                     year    cell_phones_total           population  \\\n",
       "count             8,590.0              8,590.0              8,590.0   \n",
       "mean  1,994.1934807916182  9,004,949.642905472 29,838,230.581722934   \n",
       "std    14.257974607310278 55,734,084.872176506 116,128,377.47477297   \n",
       "min               1,960.0                  0.0              4,433.0   \n",
       "25%               1,983.0                  0.0          1,456,148.0   \n",
       "50%               1,995.0              6,200.0          5,725,062.5   \n",
       "75%               2,006.0          1,697,652.0         18,105,812.0   \n",
       "max               2,017.0      1,474,097,000.0      1,409,517,397.0   \n",
       "\n",
       "       cell_phones_per_person  \n",
       "count                 8,590.0  \n",
       "mean      0.27963855580591535  \n",
       "std       0.45424665621404714  \n",
       "min                       0.0  \n",
       "25%                       0.0  \n",
       "50%     0.0015636266438163813  \n",
       "75%        0.4611491855201403  \n",
       "max         2.490242818521353  "
      ]
     },
     "execution_count": 143,
     "metadata": {},
     "output_type": "execute_result"
    }
   ],
   "source": [
    "df.describe()"
   ]
  },
  {
   "cell_type": "markdown",
   "metadata": {
    "colab_type": "text",
    "id": "zALg-RrYaLcI"
   },
   "source": [
    "In 2017, what were the top 5 countries with the most cell phones total?\n",
    "\n",
    "Your list of countries should have these totals:\n",
    "\n",
    "| country | cell phones total |\n",
    "|:-------:|:-----------------:|\n",
    "|    ?    |     1,474,097,000 |\n",
    "|    ?    |     1,168,902,277 |\n",
    "|    ?    |       458,923,202 |\n",
    "|    ?    |       395,881,000 |\n",
    "|    ?    |       236,488,548 |\n",
    "\n"
   ]
  },
  {
   "cell_type": "code",
   "execution_count": 144,
   "metadata": {
    "colab": {},
    "colab_type": "code",
    "id": "JdlWvezHaZxD"
   },
   "outputs": [],
   "source": [
    "# This optional code formats float numbers with comma separators\n",
    "\n",
    "pd.options.display.float_format = '{:,}'.format"
   ]
  },
  {
   "cell_type": "code",
   "execution_count": 145,
   "metadata": {
    "colab": {},
    "colab_type": "code",
    "id": "smX8vzu4cyju"
   },
   "outputs": [
    {
     "name": "stdout",
     "output_type": "stream",
     "text": [
      "      geo  year  cell_phones_total  population        country  \\\n",
      "1496  chn  2017    1,474,097,000.0  1409517397          China   \n",
      "3595  ind  2017    1,168,902,277.0  1339180127          India   \n",
      "3549  idn  2017      458,923,202.0   263991379      Indonesia   \n",
      "8134  usa  2017      395,881,000.0   324459463  United States   \n",
      "1084  bra  2017      236,488,548.0   209288278         Brazil   \n",
      "\n",
      "      cell_phones_per_person  \n",
      "1496      1.0458168186766978  \n",
      "3595      0.8728491809526382  \n",
      "3549       1.738402230172827  \n",
      "8134      1.2201246847283354  \n",
      "1084      1.1299655683535224  \n"
     ]
    }
   ],
   "source": [
    "pd.options.display.max_rows = 500\n",
    "\n",
    "print(df[df.year.isin([2017])].nlargest(5,'cell_phones_total'))"
   ]
  },
  {
   "cell_type": "markdown",
   "metadata": {
    "colab_type": "text",
    "id": "03V3Wln_h0dj"
   },
   "source": [
    "2017 was the first year that China had more cell phones than people.\n",
    "\n",
    "What was the first year that the USA had more cell phones than people?"
   ]
  },
  {
   "cell_type": "code",
   "execution_count": 146,
   "metadata": {
    "colab": {},
    "colab_type": "code",
    "id": "KONQkQZ3haNC"
   },
   "outputs": [
    {
     "name": "stdout",
     "output_type": "stream",
     "text": [
      "8092     True\n",
      "8093     True\n",
      "8094     True\n",
      "8095     True\n",
      "8096     True\n",
      "8097     True\n",
      "8098     True\n",
      "8099     True\n",
      "8100     True\n",
      "8101     True\n",
      "8102     True\n",
      "8103     True\n",
      "8104     True\n",
      "8105     True\n",
      "8106     True\n",
      "8107     True\n",
      "8108     True\n",
      "8109     True\n",
      "8110     True\n",
      "8111     True\n",
      "8112     True\n",
      "8113     True\n",
      "8114     True\n",
      "8115     True\n",
      "8116     True\n",
      "8117     True\n",
      "8118     True\n",
      "8119     True\n",
      "8120     True\n",
      "8121     True\n",
      "8122     True\n",
      "8123     True\n",
      "8124     True\n",
      "8125     True\n",
      "8126     True\n",
      "8127     True\n",
      "8128     True\n",
      "8129     True\n",
      "8130     True\n",
      "8131    False\n",
      "8132    False\n",
      "8133    False\n",
      "8134    False\n",
      "dtype: bool \n",
      "\n",
      "geo                                     usa\n",
      "year                                   2013\n",
      "cell_phones_total             310,698,000.0\n",
      "population                        315536676\n",
      "country                       United States\n",
      "cell_phones_per_person   0.9846652501340288\n",
      "Name: 8130, dtype: object \n",
      "\n",
      "geo                                    usa\n",
      "year                                  2014\n",
      "cell_phones_total            355,500,000.0\n",
      "population                       317718779\n",
      "country                      United States\n",
      "cell_phones_per_person   1.118914031833164\n",
      "Name: 8131, dtype: object \n",
      "\n"
     ]
    }
   ],
   "source": [
    "#print(usa.head())\n",
    "#print(usa.shape)\n",
    "\n",
    "#finding values where cell phone total exceeds population\n",
    "\n",
    "print(usa.population.gt(usa.cell_phones_total), '\\n')\n",
    "\n",
    "print(usa.loc[8130], '\\n')\n",
    "print(usa.loc[8131], '\\n')\n",
    "\n",
    "#answer == 2014"
   ]
  },
  {
   "cell_type": "markdown",
   "metadata": {
    "colab_type": "text",
    "id": "6J7iwMnTg8KZ"
   },
   "source": [
    "### Part 4. Reshape data"
   ]
  },
  {
   "cell_type": "markdown",
   "metadata": {
    "colab_type": "text",
    "id": "LP9InazRkUxG"
   },
   "source": [
    "*This part is not needed to pass the sprint challenge, only to get a 3! Only work on this after completing the other sections.*\n",
    "\n",
    "Create a pivot table:\n",
    "- Columns: Years 2007—2017\n",
    "- Rows: China, India, United States, Indonesia, Brazil (order doesn't matter)\n",
    "- Values: Cell Phones Total\n",
    "\n",
    "The table's shape should be: (5, 11)"
   ]
  },
  {
   "cell_type": "code",
   "execution_count": 147,
   "metadata": {
    "colab": {},
    "colab_type": "code",
    "id": "JD7mXXjLj4Ue"
   },
   "outputs": [
    {
     "name": "stdout",
     "output_type": "stream",
     "text": [
      "              cell_phones_total                                            \\\n",
      "year                       2007          2008          2009          2010   \n",
      "country                                                                     \n",
      "Brazil            120,980,103.0 150,641,403.0 169,385,584.0 196,929,978.0   \n",
      "China             547,306,000.0 641,245,000.0 747,214,000.0 859,003,000.0   \n",
      "India             233,620,000.0 346,890,000.0 525,090,000.0 752,190,000.0   \n",
      "Indonesia          93,386,881.0 140,578,243.0 163,676,961.0 211,290,235.0   \n",
      "United States     249,300,000.0 261,300,000.0 274,283,000.0 285,118,000.0   \n",
      "\n",
      "                                                                             \\\n",
      "year                   2011            2012            2013            2014   \n",
      "country                                                                       \n",
      "Brazil        234,357,507.0   248,323,703.0   271,099,799.0   280,728,796.0   \n",
      "China         986,253,000.0 1,112,155,000.0 1,229,113,000.0 1,286,093,000.0   \n",
      "India         893,862,478.0   864,720,917.0   886,304,245.0   944,008,677.0   \n",
      "Indonesia     249,805,619.0   281,963,665.0   313,226,914.0   325,582,819.0   \n",
      "United States 297,404,000.0   304,838,000.0   310,698,000.0   355,500,000.0   \n",
      "\n",
      "                                                               \n",
      "year                     2015            2016            2017  \n",
      "country                                                        \n",
      "Brazil          257,814,274.0   244,067,356.0   236,488,548.0  \n",
      "China         1,291,984,200.0 1,364,934,000.0 1,474,097,000.0  \n",
      "India         1,001,056,000.0 1,127,809,000.0 1,168,902,277.0  \n",
      "Indonesia       338,948,340.0   385,573,398.0   458,923,202.0  \n",
      "United States   382,307,000.0   395,881,000.0   395,881,000.0  \n"
     ]
    }
   ],
   "source": [
    "ind = ['China', 'India', 'United States', 'Indonesia', 'Brazil']\n",
    "years =[2007, 2008, 2009, 2010, 2011, 2012, 2013, 2014, 2015, 2016, 2017]\n",
    "\n",
    "df.loc[df['country'].isin(ind) & df['year'].isin(years)]\n",
    "          \n",
    "table = pd.pivot_table(df.loc[df['country'].isin(ind) & df['year'].isin(years)], index=['country'], columns=['year'], values=['cell_phones_total'])\n",
    "print(table.head())\n",
    "\n"
   ]
  },
  {
   "cell_type": "markdown",
   "metadata": {
    "colab_type": "text",
    "id": "CNKTu2DCnAo6"
   },
   "source": [
    "Sort these 5 countries, by biggest increase in cell phones from 2007 to 2017.\n",
    "\n",
    "Which country had 935,282,277 more cell phones in 2017 versus 2007?"
   ]
  },
  {
   "cell_type": "code",
   "execution_count": null,
   "metadata": {
    "colab": {},
    "colab_type": "code",
    "id": "O4Aecv1fmQlj"
   },
   "outputs": [],
   "source": []
  },
  {
   "cell_type": "markdown",
   "metadata": {
    "colab_type": "text",
    "id": "7iHkMsa3Rorh"
   },
   "source": [
    "If you have the time and curiosity, what other questions can you ask and answer with this data?"
   ]
  },
  {
   "cell_type": "markdown",
   "metadata": {
    "colab_type": "text",
    "id": "vtcAJOAV9k3X"
   },
   "source": [
    "## Data Storytelling\n",
    "\n",
    "In this part of the sprint challenge you'll work with a dataset from **FiveThirtyEight's article, [Every Guest Jon Stewart Ever Had On ‘The Daily Show’](https://fivethirtyeight.com/features/every-guest-jon-stewart-ever-had-on-the-daily-show/)**!"
   ]
  },
  {
   "cell_type": "markdown",
   "metadata": {
    "colab_type": "text",
    "id": "UtjoIqvm9yFg"
   },
   "source": [
    "### Part 0 — Run this starter code\n",
    "\n",
    "You don't need to add or change anything here. Just run this cell and it loads the data for you, into a dataframe named `df`.\n",
    "\n",
    "(You can explore the data if you want, but it's not required to pass the Sprint Challenge.)"
   ]
  },
  {
   "cell_type": "code",
   "execution_count": 148,
   "metadata": {
    "colab": {},
    "colab_type": "code",
    "id": "tYujbhIz9zKU"
   },
   "outputs": [],
   "source": [
    "%matplotlib inline\n",
    "import matplotlib.pyplot as plt\n",
    "import numpy as np\n",
    "import pandas as pd\n",
    "\n",
    "url = 'https://raw.githubusercontent.com/fivethirtyeight/data/master/daily-show-guests/daily_show_guests.csv'\n",
    "df4 = pd.read_csv(url).rename(columns={'YEAR': 'Year', 'Raw_Guest_List': 'Guest'})\n",
    "\n",
    "def get_occupation(group):\n",
    "    if group in ['Acting', 'Comedy', 'Musician']:\n",
    "        return 'Acting, Comedy & Music'\n",
    "    elif group in ['Media', 'media']:\n",
    "        return 'Media'\n",
    "    elif group in ['Government', 'Politician', 'Political Aide']:\n",
    "        return 'Government and Politics'\n",
    "    else:\n",
    "        return 'Other'\n",
    "      \n",
    "df4['Occupation'] = df4['Group'].apply(get_occupation)"
   ]
  },
  {
   "cell_type": "markdown",
   "metadata": {
    "colab_type": "text",
    "id": "5hjnMK3j90Rp"
   },
   "source": [
    "### Part 1 — What's the breakdown of guests’ occupations per year?\n",
    "\n",
    "For example, in 1999, what percentage of guests were actors, comedians, or musicians? What percentage were in the media? What percentage were in politics? What percentage were from another occupation?\n",
    "\n",
    "Then, what about in 2000? In 2001? And so on, up through 2015.\n",
    "\n",
    "So, **for each year of _The Daily Show_, calculate the percentage of guests from each occupation:**\n",
    "- Acting, Comedy & Music\n",
    "- Government and Politics\n",
    "- Media\n",
    "- Other\n",
    "\n",
    "#### Hints:\n",
    "You can make a crosstab. (See pandas documentation for examples, explanation, and parameters.)\n",
    "\n",
    "You'll know you've calculated correctly when the percentage of \"Acting, Comedy & Music\" guests is 90.36% in 1999, and 45% in 2015."
   ]
  },
  {
   "cell_type": "code",
   "execution_count": null,
   "metadata": {
    "colab": {},
    "colab_type": "code",
    "id": "EbobyiHv916F"
   },
   "outputs": [],
   "source": [
    "pd.crosstabs()"
   ]
  },
  {
   "cell_type": "markdown",
   "metadata": {
    "colab_type": "text",
    "id": "Kiq56dZb92LY"
   },
   "source": [
    "### Part 2 — Recreate this explanatory visualization:"
   ]
  },
  {
   "cell_type": "code",
   "execution_count": 149,
   "metadata": {
    "colab": {
     "base_uri": "https://localhost:8080/",
     "height": 406
    },
    "colab_type": "code",
    "id": "HKLDMWwP98vz",
    "outputId": "0397fcdf-80e5-4072-88f4-af2f14fcf0f2"
   },
   "outputs": [
    {
     "data": {
      "image/png": "[encoded data removed]",
      "text/plain": [
       "<IPython.core.display.Image object>"
      ]
     },
     "metadata": {
      "image/png": {
       "width": 500
      }
     },
     "output_type": "display_data"
    }
   ],
   "source": [
    "from IPython.display import display, Image\n",
    "png = 'https://fivethirtyeight.com/wp-content/uploads/2015/08/hickey-datalab-dailyshow.png'\n",
    "example = Image(png, width=500)\n",
    "display(example)"
   ]
  },
  {
   "cell_type": "markdown",
   "metadata": {
    "colab_type": "text",
    "id": "TK5fDIag9-F6"
   },
   "source": [
    "**Hints:**\n",
    "- You can choose any Python visualization library you want. I've verified the plot can be reproduced with matplotlib, pandas plot, or seaborn. I assume other libraries like altair or plotly would work too.\n",
    "- If you choose to use seaborn, you may want to upgrade the version to 0.9.0.\n",
    "\n",
    "**Expectations:** Your plot should include:\n",
    "- 3 lines visualizing \"occupation of guests, by year.\" The shapes of the lines should look roughly identical to 538's example. Each line should be a different color. (But you don't need to use the _same_ colors as 538.)\n",
    "- Legend or labels for the lines. (But you don't need each label positioned next to its line or colored like 538.)\n",
    "- Title in the upper left: _\"Who Got To Be On 'The Daily Show'?\"_ with more visual emphasis than the subtitle. (Bolder and/or larger font.)\n",
    "- Subtitle underneath the title: _\"Occupation of guests, by year\"_\n",
    "\n",
    "**Optional Bonus Challenge:**\n",
    "- Give your plot polished aesthetics, with improved resemblance to the 538 example.\n",
    "- Any visual element not specifically mentioned in the expectations is an optional bonus."
   ]
  },
  {
   "cell_type": "code",
   "execution_count": null,
   "metadata": {
    "colab": {},
    "colab_type": "code",
    "id": "CaB8MMV099Kh"
   },
   "outputs": [],
   "source": []
  }
 ],
 "metadata": {
  "colab": {
   "collapsed_sections": [],
   "name": "DS_Unit_1_Sprint_Challenge_2_Data_Wrangling_and_Storytelling.ipynb",
   "provenance": [],
   "version": "0.3.2"
  },
  "kernelspec": {
   "display_name": "Python 3",
   "language": "python",
   "name": "python3"
  },
  "language_info": {
   "codemirror_mode": {
    "name": "ipython",
    "version": 3
   },
   "file_extension": ".py",
   "mimetype": "text/x-python",
   "name": "python",
   "nbconvert_exporter": "python",
   "pygments_lexer": "ipython3",
   "version": "3.7.4"
  }
 },
 "nbformat": 4,
 "nbformat_minor": 1
}
